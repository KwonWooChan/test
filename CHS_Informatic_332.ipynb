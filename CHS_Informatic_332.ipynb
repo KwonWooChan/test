{
  "nbformat": 4,
  "nbformat_minor": 0,
  "metadata": {
    "colab": {
      "name": "CHS_Informatic_332.ipynb",
      "provenance": [],
      "collapsed_sections": [],
      "toc_visible": true,
      "authorship_tag": "ABX9TyMU8YWizKhkbEflXGiHmrOH",
      "include_colab_link": true
    },
    "kernelspec": {
      "name": "python3",
      "display_name": "Python 3"
    }
  },
  "cells": [
    {
      "cell_type": "markdown",
      "metadata": {
        "id": "view-in-github",
        "colab_type": "text"
      },
      "source": [
        "<a href=\"https://colab.research.google.com/github/KwonWooChan/test/blob/master/CHS_Informatic_332.ipynb\" target=\"_parent\"><img src=\"https://colab.research.google.com/assets/colab-badge.svg\" alt=\"Open In Colab\"/></a>"
      ]
    },
    {
      "cell_type": "markdown",
      "metadata": {
        "id": "KO7zCnPx7il5",
        "colab_type": "text"
      },
      "source": [
        "# 3. 문제해결과 프로그래밍\n",
        "## 3.3.2 알고리즘 분석\n",
        "\n",
        " **수업목표** <br>\n",
        " 알고리즘의 성능을 수행 시간의 관점에서 비교하고, 분석하여 어떤 방식이 더 효율적인지 설명할 수 있다.\n",
        "\n"
      ]
    },
    {
      "cell_type": "markdown",
      "metadata": {
        "id": "XGIoQ40d8Pld",
        "colab_type": "text"
      },
      "source": [
        "### 등차급수\n",
        "<hr>\n",
        "등차수열의 항들을 모두 더하는 것\n",
        "\n",
        "초기항(A1), 공차(d)등으로 등차수열을 작성할 수 있으며\n",
        "\n",
        "\n",
        "\n",
        "> n번째 등차 수열 A(n)은<br>\n",
        "A1 + n*d<br>로 나타낼 수 있다.\n",
        "\n"
      ]
    },
    {
      "cell_type": "code",
      "metadata": {
        "id": "X3DkZhtF9A07",
        "colab_type": "code",
        "colab": {}
      },
      "source": [
        "# 초기값 a1, 공차 d, 몇개를 더할지 n\n",
        "a1 = int(input(\"초기값을 입력하세요 : \"))\n",
        "d = int(input(\"등비를 입력하세요 : \"));\n",
        "n = int(input(\"수열 몇개를 더할까요? : \"))"
      ],
      "execution_count": null,
      "outputs": []
    },
    {
      "cell_type": "markdown",
      "metadata": {
        "id": "82W7_0NE814k",
        "colab_type": "text"
      },
      "source": [
        "Algo1<br>\n",
        "등차수열을 이용하여 모든 수를 더한다."
      ]
    },
    {
      "cell_type": "code",
      "metadata": {
        "id": "JZOI8tnZ_Sel",
        "colab_type": "code",
        "colab": {}
      },
      "source": [
        "# algo1의 결과값 sum1\n",
        "sum1 = 0;\n",
        "\n",
        "for i in range(n) :\n",
        "  sum1 = sum1 + a1 + i*d;\n",
        "  print(\"%d번째 항 : %d\"%(i,a1 + i*d));\n",
        "\n",
        "print(\"----------------------------\")\n",
        "print(\"모든 수를 더한 값 : %d\"%sum1)"
      ],
      "execution_count": null,
      "outputs": []
    },
    {
      "cell_type": "markdown",
      "metadata": {
        "id": "YHry-zHlAfWG",
        "colab_type": "text"
      },
      "source": [
        "Algo2<br>\n",
        "등차수열의 일반화된 식을 사용하여 더한다."
      ]
    },
    {
      "cell_type": "code",
      "metadata": {
        "id": "sBqS9LmPAomM",
        "colab_type": "code",
        "colab": {}
      },
      "source": [
        "# algo2의 결과값 sum2\n",
        "sum2 = 0;\n",
        "\n",
        "sum2 = (a1 + a1 + d*(n-1))*n/2\n",
        "print(\"----------------------------\")\n",
        "print(\"모든 수를 더한 값 : %d\"%sum2)"
      ],
      "execution_count": null,
      "outputs": []
    },
    {
      "cell_type": "markdown",
      "metadata": {
        "id": "LS_jvVpPBkKE",
        "colab_type": "text"
      },
      "source": [
        "### 버블정렬\n",
        "이웃한 두 값을 비교하여 정렬한다. 큰 값이 오론쪽으로 이동하는 과정이 반복되면서 비교했던 모든 값들의 최댓값이 맨 오른쪽으로 옮겨지게 된다.\n",
        "\n",
        "![버블정렬](http://ejklike.github.io/assets/20170301/bubblesort.gif)\n",
        "\n",
        "최악의 경우 (n−1)+(n−2)+⋯+1번 비교가 이루어지므로 O(n2)이다. 그러나, 데이터가 잘 졍렬돼있다면 O(n)이므로 데이터의 정렬 여부를 파악하기 위한 알고리즘으로 사용될 수 있다. Short Bubble sort는 데이터 정렬이 완료되면 early stopping한다."
      ]
    },
    {
      "cell_type": "code",
      "metadata": {
        "id": "Skfx88qbCUfN",
        "colab_type": "code",
        "colab": {}
      },
      "source": [
        "def BubbleSort(li):\n",
        "    list_length = len(li)\n",
        "\n",
        "    #length가 4라면\n",
        "    #바깥 루프는 3번 돌아야 하므로\n",
        "    #range()는 0, 1, 2까지 즉 range(3)이 되야 하므로\n",
        "    #range(list_length-1)이 되어야 한다.\n",
        "    for i in range(list_length-1):\n",
        "        #안쪽 루프는 1번당 3-> 2-> 1\n",
        "        #즉 range(4 - 0 - 1) ->\n",
        "        #range(4 - 1 - 1) ->\n",
        "        #range(4 - 2 - 1)\n",
        "        #range(list_leng - i - 1)\n",
        "        for j in range(list_length-i-1):\n",
        "            #만약 앞에 있는 값이 크다면 두 개를 교환\n",
        "            if li[j] > li[j+1]:\n",
        "                li[j], li[j+1] = li[j+1], li[j]\n",
        "\n",
        "\n",
        "if __name__ == \"__main__\":\n",
        "    li = [2, 3, 1, 4]\n",
        "    print(li)\n",
        "    print(\"-----------------\")\n",
        "    BubbleSort(li)\n",
        "    print(li)\n",
        "\n",
        "\n",
        "\n",
        "# https://wayhome25.github.io/cs/2017/04/16/cs-17/"
      ],
      "execution_count": null,
      "outputs": []
    },
    {
      "cell_type": "markdown",
      "metadata": {
        "id": "BgRtW2nuFPcY",
        "colab_type": "text"
      },
      "source": [
        "### 선택정렬\n",
        "주어진 배열에서 최댓값(최솟값)을 찾아 맨 오른쪽(왼쪽)값과 교체한다. 최댓값을 맨 오른쪽으로 보낸다는 점에서 버블정렬과 비슷하지만, 이웃한 두 값을 정렬하는 과정이 없기 때문에 대체로 버블정렬보다 빠르다. 최댓값을 찾아야 하므로 정렬 상태에 관계없이 언제나 O(n2)이다.\n",
        "\n",
        "![선택정렬](http://ejklike.github.io/assets/20170301/selectionsort.gif)"
      ]
    },
    {
      "cell_type": "code",
      "metadata": {
        "id": "VV-l1QN9FcUm",
        "colab_type": "code",
        "colab": {}
      },
      "source": [
        "#맨 왼쪽부터 하나씩 최소값을 선택(selection)해 채운다\n",
        "\n",
        "def selection_sort(li):\n",
        "    for i in range(len(li)-1):\n",
        "        min_idx = i\n",
        "        for j in range(i+1, len(li)):\n",
        "            if li[min_idx] > li[j]:\n",
        "                min_idx = j\n",
        "        if min_idx != i:\n",
        "            li[i], li[min_idx] = li[min_idx], li[i]\n",
        "    return li\n",
        "\n",
        "if __name__ == \"__main__\":\n",
        "    li = [4, 6, 1, 7, 2, 8, 3, 5, 9, 10, 12, 11]\n",
        "    SelectionSort(li)\n",
        "    print(li)\n",
        "\n",
        "    \n",
        "\n",
        "# https://wayhome25.github.io/cs/2017/04/16/cs-17/"
      ],
      "execution_count": null,
      "outputs": []
    },
    {
      "cell_type": "markdown",
      "metadata": {
        "id": "ELUlg4iLFhq2",
        "colab_type": "text"
      },
      "source": [
        "### 수행시간의 관점에서 평가하기\n",
        "\n",
        "IPython 기반 아나콘다 편집기인 주피터 노트북에서는 IPython의 메소드인 %timeit()를 활용해 함수의 동작 시간을 파악할 수 잇다.\n",
        "\n",
        "\n",
        "\n",
        "```\n",
        "def test1() :\n",
        "  ...\n",
        "  ...\n",
        "  ...\n",
        "\n",
        "%timeit test1()\n",
        "```\n",
        "\n",
        "<hr>\n",
        "time 모듈을 이용한 코드 실행시간 파악\n",
        "<br>\n",
        "time모듈을 활용하면 IPython의 %timeit()처럼 함수에 국한되어있는 것이 아닌 코드의 급간 별로 코드의 실행 시간을 파악할 수 있다.\n",
        "<br>\n",
        "아음의 구조와 같이 사용한다.<br>\n",
        "\n",
        "```\n",
        "import time\n",
        "start = time.time()\n",
        "\n",
        "  코드\n",
        "\n",
        "print(time.time()-start)\n",
        "``` \n",
        "\n",
        "<br><br>\n",
        "알아보기 어려윤 초 단위를 다음어 알아보기 쉽게 코드의 수행시간을 알기 위해 datetime모듈을 사용한다.\n",
        "<br>\n",
        "datetime 모듈의 타임 델타 함수를 사용해서 앞서 출력된 초 단위의 코드 수행시간을 \"시 : 분 : 초\"의 형태로 사용한다.\n",
        "\n",
        "```\n",
        "import time\n",
        "import datetime\n",
        "start = time.time()\n",
        "\n",
        "  코드\n",
        "\n",
        "sec = time.time() - start\n",
        "\n",
        "times = str(datetime.timedelta(seconds=sec)).split(\".\")\n",
        "print(time)\n",
        "```\n"
      ]
    }
  ]
}